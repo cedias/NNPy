{
 "metadata": {
  "name": ""
 },
 "nbformat": 3,
 "nbformat_minor": 0,
 "worksheets": [
  {
   "cells": [
    {
     "cell_type": "markdown",
     "metadata": {},
     "source": [
      "#AS: Deep Learning"
     ]
    },
    {
     "cell_type": "markdown",
     "metadata": {},
     "source": [
      "##1 - Mise en place"
     ]
    },
    {
     "cell_type": "markdown",
     "metadata": {},
     "source": [
      "- Importation du module NNpy"
     ]
    },
    {
     "cell_type": "code",
     "collapsed": false,
     "input": [
      "from NNPy import *"
     ],
     "language": "python",
     "metadata": {},
     "outputs": [],
     "prompt_number": 2
    },
    {
     "cell_type": "markdown",
     "metadata": {},
     "source": [
      "- Fonctions de cr\u00e9ation d'un perceptron ou d'un perceptron multicouches"
     ]
    },
    {
     "cell_type": "markdown",
     "metadata": {},
     "source": [
      "NB: Un \"Network\" est compos\u00e9 d'un module et d'un loss"
     ]
    },
    {
     "cell_type": "code",
     "collapsed": false,
     "input": [
      "def perceptron(inDim,outDim):\n",
      "    #Construction d'un Perceptron\n",
      "    lm = LinearModule(inDim,outDim)\n",
      "    hl = HingeLoss()\n",
      "    hm = HorizontalModule([lm])\n",
      "    \n",
      "    #Perceptron\n",
      "    return NetworkModule([hm],hl)\n",
      "\n",
      "def multiLayerPerceptron(inDim,hidden,out):\n",
      "   return NetworkModule([HorizontalModule([LinearModule(inDim,hidden),TanhModule(hidden,hidden), LinearModule(hidden,out)])],SquareLoss())\n"
     ],
     "language": "python",
     "metadata": {},
     "outputs": [],
     "prompt_number": 3
    },
    {
     "cell_type": "markdown",
     "metadata": {},
     "source": [
      "- Test Rapide MNIST 8 vs 6"
     ]
    },
    {
     "cell_type": "code",
     "collapsed": true,
     "input": [
      "from DataClass import * \n",
      "\n",
      "print(\"----======  MNIST 8/6  =======----\")\n",
      "\n",
      "trainV,trainL,testV,testL = getMnistDualDataset()\n",
      "\n",
      "print(\"----Perceptron----\")\n",
      "NBITER = 10\n",
      "GD_STEP = 0.00001\n",
      "network = perceptron(28*28,1)\n",
      "network.trainTest(trainV,trainL,testV,testL,NBITER,GD_STEP)\n",
      "\n",
      "print ('----multiLayerPerceptron-----')\n",
      "HIDDEN = 2\n",
      "GD_STEP = 0.00001\n",
      "network = multiLayerPerceptron(28*28,HIDDEN,1)\n",
      "network.trainTest(trainV,trainL,testV,testL,NBITER,GD_STEP)\n"
     ],
     "language": "python",
     "metadata": {},
     "outputs": [
      {
       "output_type": "stream",
       "stream": "stdout",
       "text": [
        "----======  MNIST 8/6  =======----\n",
        "6876 6s and 6825 8s"
       ]
      },
      {
       "output_type": "stream",
       "stream": "stdout",
       "text": [
        "\n",
        "13701/13701 vecteurs d'apprentissage"
       ]
      },
      {
       "output_type": "stream",
       "stream": "stdout",
       "text": [
        "\n",
        "2698/2698 vecteurs d'apprentissage apres echantillonage\n",
        "1378 training examples and 1320 testing examples \n",
        "----Perceptron----\n",
        "=======TRAIN ERROR=======\n",
        "656 correct (47.605225%), 722 incorrect (52.394775%) "
       ]
      },
      {
       "output_type": "stream",
       "stream": "stdout",
       "text": [
        "\n",
        "Learning done\n",
        "847 correct (61.465893%), 531 incorrect (38.534107%) "
       ]
      },
      {
       "output_type": "stream",
       "stream": "stdout",
       "text": [
        "\n",
        "Learning done\n",
        "1070 correct (77.648766%), 308 incorrect (22.351234%) "
       ]
      },
      {
       "output_type": "stream",
       "stream": "stdout",
       "text": [
        "\n",
        "Learning done\n",
        "1165 correct (84.542816%), 213 incorrect (15.457184%) "
       ]
      },
      {
       "output_type": "stream",
       "stream": "stdout",
       "text": [
        "\n",
        "Learning done\n",
        "1243 correct (90.203193%), 135 incorrect (9.796807%) "
       ]
      },
      {
       "output_type": "stream",
       "stream": "stdout",
       "text": [
        "\n",
        "Learning done\n",
        "1260 correct (91.436865%), 118 incorrect (8.563135%) "
       ]
      },
      {
       "output_type": "stream",
       "stream": "stdout",
       "text": [
        "\n",
        "Learning done\n",
        "1287 correct (93.396226%), 91 incorrect (6.603774%) "
       ]
      },
      {
       "output_type": "stream",
       "stream": "stdout",
       "text": [
        "\n",
        "Learning done\n",
        "1299 correct (94.267054%), 79 incorrect (5.732946%) "
       ]
      },
      {
       "output_type": "stream",
       "stream": "stdout",
       "text": [
        "\n",
        "Learning done\n",
        "1305 correct (94.702467%), 73 incorrect (5.297533%) "
       ]
      },
      {
       "output_type": "stream",
       "stream": "stdout",
       "text": [
        "\n",
        "Learning done\n",
        "1308 correct (94.920174%), 70 incorrect (5.079826%) "
       ]
      },
      {
       "output_type": "stream",
       "stream": "stdout",
       "text": [
        "\n",
        "Learning done\n",
        "=======TEST ERROR=======\n",
        "1236 correct (93.636364%), 84 incorrect (6.363636%) \n",
        "----multiLayerPerceptron-----\n",
        "=======TRAIN ERROR=======\n",
        "707 correct (51.306241%), 671 incorrect (48.693759%) "
       ]
      },
      {
       "output_type": "stream",
       "stream": "stdout",
       "text": [
        "\n",
        "Learning done\n",
        "713 correct (51.741655%), 665 incorrect (48.258345%) "
       ]
      },
      {
       "output_type": "stream",
       "stream": "stdout",
       "text": [
        "\n",
        "Learning done\n",
        "711 correct (51.596517%), 667 incorrect (48.403483%) "
       ]
      },
      {
       "output_type": "stream",
       "stream": "stdout",
       "text": [
        "\n",
        "Learning done\n",
        "716 correct (51.959361%), 662 incorrect (48.040639%) "
       ]
      },
      {
       "output_type": "stream",
       "stream": "stdout",
       "text": [
        "\n",
        "Learning done\n",
        "733 correct (53.193033%), 645 incorrect (46.806967%) "
       ]
      },
      {
       "output_type": "stream",
       "stream": "stdout",
       "text": [
        "\n",
        "Learning done\n",
        "740 correct (53.701016%), 638 incorrect (46.298984%) "
       ]
      },
      {
       "output_type": "stream",
       "stream": "stdout",
       "text": [
        "\n",
        "Learning done\n",
        "740 correct (53.701016%), 638 incorrect (46.298984%) "
       ]
      },
      {
       "output_type": "stream",
       "stream": "stdout",
       "text": [
        "\n",
        "Learning done\n",
        "740 correct (53.701016%), 638 incorrect (46.298984%) "
       ]
      },
      {
       "output_type": "stream",
       "stream": "stdout",
       "text": [
        "\n",
        "Learning done\n",
        "740 correct (53.701016%), 638 incorrect (46.298984%) "
       ]
      },
      {
       "output_type": "stream",
       "stream": "stdout",
       "text": [
        "\n",
        "Learning done\n",
        "740 correct (53.701016%), 638 incorrect (46.298984%) "
       ]
      },
      {
       "output_type": "stream",
       "stream": "stdout",
       "text": [
        "\n",
        "Learning done\n",
        "=======TEST ERROR=======\n",
        "698 correct (52.878788%), 622 incorrect (47.121212%) \n"
       ]
      }
     ],
     "prompt_number": 9
    },
    {
     "cell_type": "markdown",
     "metadata": {},
     "source": [
      " - MNIST complet\n"
     ]
    },
    {
     "cell_type": "code",
     "collapsed": false,
     "input": [
      "from sklearn.datasets import fetch_mldata\n",
      "mnist=fetch_mldata('MNIST original')\n",
      "mnist"
     ],
     "language": "python",
     "metadata": {},
     "outputs": [
      {
       "metadata": {},
       "output_type": "pyout",
       "prompt_number": 15,
       "text": [
        "{'COL_NAMES': ['label', 'data'],\n",
        " 'DESCR': 'mldata.org dataset: mnist-original',\n",
        " 'data': array([[0, 0, 0, ..., 0, 0, 0],\n",
        "       [0, 0, 0, ..., 0, 0, 0],\n",
        "       [0, 0, 0, ..., 0, 0, 0],\n",
        "       ..., \n",
        "       [0, 0, 0, ..., 0, 0, 0],\n",
        "       [0, 0, 0, ..., 0, 0, 0],\n",
        "       [0, 0, 0, ..., 0, 0, 0]], dtype=uint8),\n",
        " 'target': array([ 0.,  0.,  0., ...,  9.,  9.,  9.])}"
       ]
      }
     ],
     "prompt_number": 15
    },
    {
     "cell_type": "code",
     "collapsed": false,
     "input": [
      "HIDDEN = 50\n",
      "network = multiLayerPerceptron(28*28,HIDDEN,10)\n",
      "for a,b in zip(mnist[\"data\"],mnist[\"target\"]):\n",
      "    print a"
     ],
     "language": "python",
     "metadata": {},
     "outputs": [],
     "prompt_number": 22
    },
    {
     "cell_type": "code",
     "collapsed": false,
     "input": [],
     "language": "python",
     "metadata": {},
     "outputs": []
    }
   ],
   "metadata": {}
  }
 ]
}